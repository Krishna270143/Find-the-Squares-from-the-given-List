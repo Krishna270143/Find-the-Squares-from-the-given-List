{
 "cells": [
  {
   "cell_type": "code",
   "execution_count": null,
   "id": "2a5be0f1",
   "metadata": {},
   "outputs": [],
   "source": [
    "##Find the Squares from the given List"
   ]
  },
  {
   "cell_type": "code",
   "execution_count": 1,
   "id": "1b8575d5",
   "metadata": {},
   "outputs": [
    {
     "name": "stdout",
     "output_type": "stream",
     "text": [
      "Given Numbers:  [4, 5, 2, 9]\n",
      "\n",
      "Square of given numbers are:\n",
      "[16, 25, 4, 81]\n"
     ]
    }
   ],
   "source": [
    "def square(num):                             # defining the square function\n",
    "    return num**2\n",
    "\n",
    "my_nums = [4,5,2,9]                          #Input list\n",
    "print(\"Given Numbers: \", my_nums)            # printing given list\n",
    "map(square,my_nums)                         \n",
    "print(\"\\nSquare of given numbers are:\")      \n",
    "print(list(map(square,my_nums)))              # to get the results , we are iterating through map function\n",
    "    \n"
   ]
  },
  {
   "cell_type": "code",
   "execution_count": null,
   "id": "82f8425f",
   "metadata": {},
   "outputs": [],
   "source": []
  },
  {
   "cell_type": "code",
   "execution_count": null,
   "id": "053446c1",
   "metadata": {},
   "outputs": [],
   "source": [
    "# Test cases"
   ]
  },
  {
   "cell_type": "code",
   "execution_count": 2,
   "id": "2c4c2cf3",
   "metadata": {},
   "outputs": [
    {
     "name": "stdout",
     "output_type": "stream",
     "text": [
      "Given Numbers:  [1, -3, 5, -7]\n",
      "\n",
      "Square of given numbers are:\n",
      "[1, 9, 25, 49]\n"
     ]
    }
   ],
   "source": [
    "def square(num):                             # defining the square function\n",
    "    return num**2\n",
    "\n",
    "my_nums = [1,-3,5,-7]                          #Input list\n",
    "print(\"Given Numbers: \", my_nums)            # printing given list\n",
    "map(square,my_nums)                         \n",
    "print(\"\\nSquare of given numbers are:\")      \n",
    "print(list(map(square,my_nums)))              # to get the results , we are iterating through map function\n",
    "    \n"
   ]
  },
  {
   "cell_type": "code",
   "execution_count": null,
   "id": "55db17df",
   "metadata": {},
   "outputs": [],
   "source": []
  },
  {
   "cell_type": "code",
   "execution_count": 3,
   "id": "93e74310",
   "metadata": {},
   "outputs": [
    {
     "name": "stdout",
     "output_type": "stream",
     "text": [
      "Given Numbers:  [10, 20, 30, 40, 50]\n",
      "\n",
      "Square of given numbers are:\n",
      "[100, 400, 900, 1600, 2500]\n"
     ]
    }
   ],
   "source": [
    "def square(num):                             # defining the square function\n",
    "    return num**2\n",
    "\n",
    "my_nums = [10,20,30,40,50]                          #Input list\n",
    "print(\"Given Numbers: \", my_nums)            # printing given list\n",
    "map(square,my_nums)                         \n",
    "print(\"\\nSquare of given numbers are:\")      \n",
    "print(list(map(square,my_nums)))              # to get the results , we are iterating through map function\n",
    "    \n"
   ]
  },
  {
   "cell_type": "code",
   "execution_count": null,
   "id": "0322f245",
   "metadata": {},
   "outputs": [],
   "source": []
  },
  {
   "cell_type": "code",
   "execution_count": null,
   "id": "75ca6862",
   "metadata": {},
   "outputs": [],
   "source": []
  }
 ],
 "metadata": {
  "kernelspec": {
   "display_name": "Python 3 (ipykernel)",
   "language": "python",
   "name": "python3"
  },
  "language_info": {
   "codemirror_mode": {
    "name": "ipython",
    "version": 3
   },
   "file_extension": ".py",
   "mimetype": "text/x-python",
   "name": "python",
   "nbconvert_exporter": "python",
   "pygments_lexer": "ipython3",
   "version": "3.10.0"
  }
 },
 "nbformat": 4,
 "nbformat_minor": 5
}
